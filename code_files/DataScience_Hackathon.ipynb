{
 "cells": [
  {
   "cell_type": "code",
   "execution_count": 1,
   "id": "d68301ac",
   "metadata": {},
   "outputs": [],
   "source": [
    "import numpy as np\n",
    "import pandas as pd\n",
    "import matplotlib.pyplot as plt\n",
    "import seaborn as sns"
   ]
  },
  {
   "cell_type": "markdown",
   "id": "c9665f45",
   "metadata": {},
   "source": [
    "# 2. What is the shape of \"movies.csv\"?\n"
   ]
  },
  {
   "cell_type": "code",
   "execution_count": 2,
   "id": "b1ba53a6",
   "metadata": {},
   "outputs": [
    {
     "data": {
      "text/plain": [
       "(9742, 3)"
      ]
     },
     "execution_count": 2,
     "metadata": {},
     "output_type": "execute_result"
    }
   ],
   "source": [
    "df_movies = pd.read_csv(r\"C:\\Users\\Utteja\\Desktop\\D_S INTERNSHIP\\movies.csv\")\n",
    "\n",
    "df_movies.shape"
   ]
  },
  {
   "cell_type": "markdown",
   "id": "57c048c0",
   "metadata": {},
   "source": [
    "# 3. What is the shape of \"ratings.csv\"?\n"
   ]
  },
  {
   "cell_type": "code",
   "execution_count": 3,
   "id": "5bb07156",
   "metadata": {},
   "outputs": [
    {
     "data": {
      "text/plain": [
       "(100836, 4)"
      ]
     },
     "execution_count": 3,
     "metadata": {},
     "output_type": "execute_result"
    }
   ],
   "source": [
    "df_rating = pd.read_csv(r\"C:\\Users\\Utteja\\Desktop\\D_S INTERNSHIP\\ratings.csv\")\n",
    "\n",
    "df_rating.shape"
   ]
  },
  {
   "cell_type": "markdown",
   "id": "7536d74c",
   "metadata": {},
   "source": [
    "# 4. How many unique \"userId\" are available in \"ratings.csv\"?\n"
   ]
  },
  {
   "cell_type": "code",
   "execution_count": 4,
   "id": "36ffe959",
   "metadata": {},
   "outputs": [
    {
     "data": {
      "text/html": [
       "<div>\n",
       "<style scoped>\n",
       "    .dataframe tbody tr th:only-of-type {\n",
       "        vertical-align: middle;\n",
       "    }\n",
       "\n",
       "    .dataframe tbody tr th {\n",
       "        vertical-align: top;\n",
       "    }\n",
       "\n",
       "    .dataframe thead th {\n",
       "        text-align: right;\n",
       "    }\n",
       "</style>\n",
       "<table border=\"1\" class=\"dataframe\">\n",
       "  <thead>\n",
       "    <tr style=\"text-align: right;\">\n",
       "      <th></th>\n",
       "      <th>userId</th>\n",
       "      <th>movieId</th>\n",
       "      <th>rating</th>\n",
       "      <th>timestamp</th>\n",
       "    </tr>\n",
       "  </thead>\n",
       "  <tbody>\n",
       "    <tr>\n",
       "      <th>0</th>\n",
       "      <td>1</td>\n",
       "      <td>1</td>\n",
       "      <td>4.0</td>\n",
       "      <td>964982703</td>\n",
       "    </tr>\n",
       "    <tr>\n",
       "      <th>1</th>\n",
       "      <td>1</td>\n",
       "      <td>3</td>\n",
       "      <td>4.0</td>\n",
       "      <td>964981247</td>\n",
       "    </tr>\n",
       "    <tr>\n",
       "      <th>2</th>\n",
       "      <td>1</td>\n",
       "      <td>6</td>\n",
       "      <td>4.0</td>\n",
       "      <td>964982224</td>\n",
       "    </tr>\n",
       "    <tr>\n",
       "      <th>3</th>\n",
       "      <td>1</td>\n",
       "      <td>47</td>\n",
       "      <td>5.0</td>\n",
       "      <td>964983815</td>\n",
       "    </tr>\n",
       "    <tr>\n",
       "      <th>4</th>\n",
       "      <td>1</td>\n",
       "      <td>50</td>\n",
       "      <td>5.0</td>\n",
       "      <td>964982931</td>\n",
       "    </tr>\n",
       "  </tbody>\n",
       "</table>\n",
       "</div>"
      ],
      "text/plain": [
       "   userId  movieId  rating  timestamp\n",
       "0       1        1     4.0  964982703\n",
       "1       1        3     4.0  964981247\n",
       "2       1        6     4.0  964982224\n",
       "3       1       47     5.0  964983815\n",
       "4       1       50     5.0  964982931"
      ]
     },
     "execution_count": 4,
     "metadata": {},
     "output_type": "execute_result"
    }
   ],
   "source": [
    "df_rating.head()"
   ]
  },
  {
   "cell_type": "code",
   "execution_count": 5,
   "id": "0db2235b",
   "metadata": {},
   "outputs": [
    {
     "data": {
      "text/plain": [
       "610"
      ]
     },
     "execution_count": 5,
     "metadata": {},
     "output_type": "execute_result"
    }
   ],
   "source": [
    "df_rating[\"userId\"].nunique()"
   ]
  },
  {
   "cell_type": "markdown",
   "id": "d4026a43",
   "metadata": {},
   "source": [
    "# 5. Which movie has recieved maximum number of user ratings?"
   ]
  },
  {
   "cell_type": "code",
   "execution_count": 6,
   "id": "74be0ef2",
   "metadata": {},
   "outputs": [
    {
     "data": {
      "text/html": [
       "<div>\n",
       "<style scoped>\n",
       "    .dataframe tbody tr th:only-of-type {\n",
       "        vertical-align: middle;\n",
       "    }\n",
       "\n",
       "    .dataframe tbody tr th {\n",
       "        vertical-align: top;\n",
       "    }\n",
       "\n",
       "    .dataframe thead th {\n",
       "        text-align: right;\n",
       "    }\n",
       "</style>\n",
       "<table border=\"1\" class=\"dataframe\">\n",
       "  <thead>\n",
       "    <tr style=\"text-align: right;\">\n",
       "      <th></th>\n",
       "      <th>title</th>\n",
       "      <th>rating</th>\n",
       "    </tr>\n",
       "  </thead>\n",
       "  <tbody>\n",
       "    <tr>\n",
       "      <th>0</th>\n",
       "      <td>Forrest Gump (1994)</td>\n",
       "      <td>329</td>\n",
       "    </tr>\n",
       "    <tr>\n",
       "      <th>1</th>\n",
       "      <td>Shawshank Redemption, The (1994)</td>\n",
       "      <td>317</td>\n",
       "    </tr>\n",
       "    <tr>\n",
       "      <th>2</th>\n",
       "      <td>Pulp Fiction (1994)</td>\n",
       "      <td>307</td>\n",
       "    </tr>\n",
       "    <tr>\n",
       "      <th>3</th>\n",
       "      <td>Silence of the Lambs, The (1991)</td>\n",
       "      <td>279</td>\n",
       "    </tr>\n",
       "    <tr>\n",
       "      <th>4</th>\n",
       "      <td>Matrix, The (1999)</td>\n",
       "      <td>278</td>\n",
       "    </tr>\n",
       "    <tr>\n",
       "      <th>...</th>\n",
       "      <td>...</td>\n",
       "      <td>...</td>\n",
       "    </tr>\n",
       "    <tr>\n",
       "      <th>9714</th>\n",
       "      <td>King Solomon's Mines (1950)</td>\n",
       "      <td>1</td>\n",
       "    </tr>\n",
       "    <tr>\n",
       "      <th>9715</th>\n",
       "      <td>King Solomon's Mines (1937)</td>\n",
       "      <td>1</td>\n",
       "    </tr>\n",
       "    <tr>\n",
       "      <th>9716</th>\n",
       "      <td>King Ralph (1991)</td>\n",
       "      <td>1</td>\n",
       "    </tr>\n",
       "    <tr>\n",
       "      <th>9717</th>\n",
       "      <td>King Kong Lives (1986)</td>\n",
       "      <td>1</td>\n",
       "    </tr>\n",
       "    <tr>\n",
       "      <th>9718</th>\n",
       "      <td>À nous la liberté (Freedom for Us) (1931)</td>\n",
       "      <td>1</td>\n",
       "    </tr>\n",
       "  </tbody>\n",
       "</table>\n",
       "<p>9719 rows × 2 columns</p>\n",
       "</div>"
      ],
      "text/plain": [
       "                                          title  rating\n",
       "0                           Forrest Gump (1994)     329\n",
       "1              Shawshank Redemption, The (1994)     317\n",
       "2                           Pulp Fiction (1994)     307\n",
       "3              Silence of the Lambs, The (1991)     279\n",
       "4                            Matrix, The (1999)     278\n",
       "...                                         ...     ...\n",
       "9714                King Solomon's Mines (1950)       1\n",
       "9715                King Solomon's Mines (1937)       1\n",
       "9716                          King Ralph (1991)       1\n",
       "9717                     King Kong Lives (1986)       1\n",
       "9718  À nous la liberté (Freedom for Us) (1931)       1\n",
       "\n",
       "[9719 rows x 2 columns]"
      ]
     },
     "execution_count": 6,
     "metadata": {},
     "output_type": "execute_result"
    }
   ],
   "source": [
    "dfm = pd.merge(df_movies, df_rating, on = \"movieId\")\n",
    "\n",
    "df_f = dfm.groupby(\"title\")[\"rating\"].count().sort_values(ascending=False).reset_index()\n",
    "df_f"
   ]
  },
  {
   "cell_type": "markdown",
   "id": "69830ac2",
   "metadata": {},
   "source": [
    "# 6. Select all the correct tags submitted by users to \"Matrix, The (1999)\" movie?"
   ]
  },
  {
   "cell_type": "code",
   "execution_count": 7,
   "id": "9039dfeb",
   "metadata": {},
   "outputs": [],
   "source": [
    "df_tags = pd.read_csv(r\"C:\\Users\\Utteja\\Desktop\\D_S INTERNSHIP\\tags.csv\")"
   ]
  },
  {
   "cell_type": "code",
   "execution_count": 8,
   "id": "1428f2c9",
   "metadata": {},
   "outputs": [
    {
     "data": {
      "text/plain": [
       "array(['martial arts', 'sci-fi', 'alternate universe', 'philosophy',\n",
       "       'post apocalyptic'], dtype=object)"
      ]
     },
     "execution_count": 8,
     "metadata": {},
     "output_type": "execute_result"
    }
   ],
   "source": [
    "df_mac = df_movies[df_movies[\"title\"] == \"Matrix, The (1999)\"][\"movieId\"].values[0]\n",
    "\n",
    "df_match = df_tags[df_tags[\"movieId\"] == df_mac]\n",
    "df_match[\"tag\"].unique()"
   ]
  },
  {
   "cell_type": "markdown",
   "id": "fb4209f3",
   "metadata": {},
   "source": [
    "# 7. What is the average user rating for movie named \"Terminator 2: Judgment Day (1991)\"?"
   ]
  },
  {
   "cell_type": "code",
   "execution_count": 9,
   "id": "b1ee2a42",
   "metadata": {},
   "outputs": [
    {
     "data": {
      "text/plain": [
       "title\n",
       "False    3.500512\n",
       "True     3.970982\n",
       "Name: rating, dtype: float64"
      ]
     },
     "execution_count": 9,
     "metadata": {},
     "output_type": "execute_result"
    }
   ],
   "source": [
    "df_merge = pd.merge(df_rating, df_movies, on = \"movieId\")\n",
    "df_merge.head()\n",
    "\n",
    "dff = df_merge.groupby(df_merge[\"title\"] == \"Terminator 2: Judgment Day (1991)\")[\"rating\"].mean()\n",
    "dff"
   ]
  },
  {
   "cell_type": "markdown",
   "id": "1fd1c137",
   "metadata": {},
   "source": [
    "# 8. How does the data distribution of user ratings for \"Fight Club (1999)\" movie looks like?"
   ]
  },
  {
   "cell_type": "code",
   "execution_count": 10,
   "id": "3196802d",
   "metadata": {},
   "outputs": [
    {
     "data": {
      "image/png": "[encoded data removed]",
      "text/plain": [
       "<Figure size 600x400 with 1 Axes>"
      ]
     },
     "metadata": {},
     "output_type": "display_data"
    }
   ],
   "source": [
    "merged_data = pd.merge(df_rating, df_movies, on = 'movieId')\n",
    "fight_club_data = merged_data[merged_data['title'] == \"Fight Club (1999)\"]\n",
    "\n",
    "\n",
    "plt.figure(figsize=(6,4))\n",
    "sns.kdeplot(fight_club_data['rating'], shade=True, color='skyblue')\n",
    "plt.title('User Ratings Distribution for Fight Club (1999)')\n",
    "plt.xlabel('Rating')\n",
    "plt.ylabel('Frequency')\n",
    "plt.grid(axis='y', alpha=0.5)\n",
    "plt.show()"
   ]
  },
  {
   "cell_type": "markdown",
   "id": "36c018ee",
   "metadata": {},
   "source": [
    "## Mandatory Operations:\n",
    "1. Group the user ratings based on movieId and apply aggregation operations like count and mean on ratings. \n",
    "2. Apply inner join on dataframe created from movies.csv and the grouped df from step 1.\n",
    "3. Filter only those movies which have more than 50 user ratings (i.e. > 50).\n",
    "\n",
    "Above steps will make sure that your data contains only those movies which has recieved more than 50 user ratings."
   ]
  },
  {
   "cell_type": "code",
   "execution_count": 11,
   "id": "b3697e1a",
   "metadata": {},
   "outputs": [
    {
     "data": {
      "text/html": [
       "<div>\n",
       "<style scoped>\n",
       "    .dataframe tbody tr th:only-of-type {\n",
       "        vertical-align: middle;\n",
       "    }\n",
       "\n",
       "    .dataframe tbody tr th {\n",
       "        vertical-align: top;\n",
       "    }\n",
       "\n",
       "    .dataframe thead th {\n",
       "        text-align: right;\n",
       "    }\n",
       "</style>\n",
       "<table border=\"1\" class=\"dataframe\">\n",
       "  <thead>\n",
       "    <tr style=\"text-align: right;\">\n",
       "      <th></th>\n",
       "      <th>movieId</th>\n",
       "      <th>title</th>\n",
       "      <th>genres</th>\n",
       "      <th>rating_count</th>\n",
       "      <th>rating_mean</th>\n",
       "    </tr>\n",
       "  </thead>\n",
       "  <tbody>\n",
       "    <tr>\n",
       "      <th>0</th>\n",
       "      <td>1</td>\n",
       "      <td>Toy Story (1995)</td>\n",
       "      <td>Adventure|Animation|Children|Comedy|Fantasy</td>\n",
       "      <td>215</td>\n",
       "      <td>3.920930</td>\n",
       "    </tr>\n",
       "    <tr>\n",
       "      <th>1</th>\n",
       "      <td>2</td>\n",
       "      <td>Jumanji (1995)</td>\n",
       "      <td>Adventure|Children|Fantasy</td>\n",
       "      <td>110</td>\n",
       "      <td>3.431818</td>\n",
       "    </tr>\n",
       "    <tr>\n",
       "      <th>2</th>\n",
       "      <td>3</td>\n",
       "      <td>Grumpier Old Men (1995)</td>\n",
       "      <td>Comedy|Romance</td>\n",
       "      <td>52</td>\n",
       "      <td>3.259615</td>\n",
       "    </tr>\n",
       "    <tr>\n",
       "      <th>5</th>\n",
       "      <td>6</td>\n",
       "      <td>Heat (1995)</td>\n",
       "      <td>Action|Crime|Thriller</td>\n",
       "      <td>102</td>\n",
       "      <td>3.946078</td>\n",
       "    </tr>\n",
       "    <tr>\n",
       "      <th>6</th>\n",
       "      <td>7</td>\n",
       "      <td>Sabrina (1995)</td>\n",
       "      <td>Comedy|Romance</td>\n",
       "      <td>54</td>\n",
       "      <td>3.185185</td>\n",
       "    </tr>\n",
       "  </tbody>\n",
       "</table>\n",
       "</div>"
      ],
      "text/plain": [
       "   movieId                    title  \\\n",
       "0        1         Toy Story (1995)   \n",
       "1        2           Jumanji (1995)   \n",
       "2        3  Grumpier Old Men (1995)   \n",
       "5        6              Heat (1995)   \n",
       "6        7           Sabrina (1995)   \n",
       "\n",
       "                                        genres  rating_count  rating_mean  \n",
       "0  Adventure|Animation|Children|Comedy|Fantasy           215     3.920930  \n",
       "1                   Adventure|Children|Fantasy           110     3.431818  \n",
       "2                               Comedy|Romance            52     3.259615  \n",
       "5                        Action|Crime|Thriller           102     3.946078  \n",
       "6                               Comedy|Romance            54     3.185185  "
      ]
     },
     "execution_count": 11,
     "metadata": {},
     "output_type": "execute_result"
    }
   ],
   "source": [
    "ratings_grouped = df_rating.groupby('movieId')['rating'].agg(['count', 'mean']).reset_index()\n",
    "\n",
    "# Renaming columns\n",
    "ratings_grouped.columns = ['movieId', 'rating_count', 'rating_mean']\n",
    "\n",
    "merged_data = pd.merge(df_movies, ratings_grouped, on='movieId', how='inner')\n",
    "\n",
    "movies50_ratings = merged_data[merged_data['rating_count'] > 50]\n",
    "\n",
    "movies50_ratings.head()"
   ]
  },
  {
   "cell_type": "markdown",
   "id": "9bfb2e68",
   "metadata": {},
   "source": [
    "# 9. Which movie is the most popular based on  average user ratings?\n"
   ]
  },
  {
   "cell_type": "code",
   "execution_count": 12,
   "id": "6c3db9ae",
   "metadata": {},
   "outputs": [
    {
     "data": {
      "text/plain": [
       "index                                        277\n",
       "movieId                                      318\n",
       "title           Shawshank Redemption, The (1994)\n",
       "genres                               Crime|Drama\n",
       "rating_count                                 317\n",
       "rating_mean                             4.429022\n",
       "Name: 0, dtype: object"
      ]
     },
     "execution_count": 12,
     "metadata": {},
     "output_type": "execute_result"
    }
   ],
   "source": [
    "movies50_ratings.sort_values(by = \"rating_mean\", ascending = False).reset_index().iloc[0]"
   ]
  },
  {
   "cell_type": "markdown",
   "id": "4c8fe6e0",
   "metadata": {},
   "source": [
    "# 10. Select all the correct options which comes under top 5 popular movies based on number of user ratings."
   ]
  },
  {
   "cell_type": "code",
   "execution_count": 13,
   "id": "5dd74d81",
   "metadata": {},
   "outputs": [
    {
     "data": {
      "text/html": [
       "<div>\n",
       "<style scoped>\n",
       "    .dataframe tbody tr th:only-of-type {\n",
       "        vertical-align: middle;\n",
       "    }\n",
       "\n",
       "    .dataframe tbody tr th {\n",
       "        vertical-align: top;\n",
       "    }\n",
       "\n",
       "    .dataframe thead th {\n",
       "        text-align: right;\n",
       "    }\n",
       "</style>\n",
       "<table border=\"1\" class=\"dataframe\">\n",
       "  <thead>\n",
       "    <tr style=\"text-align: right;\">\n",
       "      <th></th>\n",
       "      <th>index</th>\n",
       "      <th>title</th>\n",
       "    </tr>\n",
       "  </thead>\n",
       "  <tbody>\n",
       "    <tr>\n",
       "      <th>0</th>\n",
       "      <td>314</td>\n",
       "      <td>Forrest Gump (1994)</td>\n",
       "    </tr>\n",
       "    <tr>\n",
       "      <th>1</th>\n",
       "      <td>277</td>\n",
       "      <td>Shawshank Redemption, The (1994)</td>\n",
       "    </tr>\n",
       "    <tr>\n",
       "      <th>2</th>\n",
       "      <td>257</td>\n",
       "      <td>Pulp Fiction (1994)</td>\n",
       "    </tr>\n",
       "    <tr>\n",
       "      <th>3</th>\n",
       "      <td>510</td>\n",
       "      <td>Silence of the Lambs, The (1991)</td>\n",
       "    </tr>\n",
       "    <tr>\n",
       "      <th>4</th>\n",
       "      <td>1938</td>\n",
       "      <td>Matrix, The (1999)</td>\n",
       "    </tr>\n",
       "  </tbody>\n",
       "</table>\n",
       "</div>"
      ],
      "text/plain": [
       "   index                             title\n",
       "0    314               Forrest Gump (1994)\n",
       "1    277  Shawshank Redemption, The (1994)\n",
       "2    257               Pulp Fiction (1994)\n",
       "3    510  Silence of the Lambs, The (1991)\n",
       "4   1938                Matrix, The (1999)"
      ]
     },
     "execution_count": 13,
     "metadata": {},
     "output_type": "execute_result"
    }
   ],
   "source": [
    "movies50_ratings.sort_values(by = \"rating_count\", ascending = False)[\"title\"].reset_index().iloc[0:5]"
   ]
  },
  {
   "cell_type": "markdown",
   "id": "ee759e63",
   "metadata": {},
   "source": [
    "# 11. Which Sci-Fi movie is \"third most popular\" based on the number of user ratings?"
   ]
  },
  {
   "cell_type": "code",
   "execution_count": 19,
   "id": "de5828f9",
   "metadata": {},
   "outputs": [
    {
     "data": {
      "text/plain": [
       "movieId                                      480\n",
       "title                       Jurassic Park (1993)\n",
       "genres          Action|Adventure|Sci-Fi|Thriller\n",
       "rating_count                                 238\n",
       "rating_mean                                 3.75\n",
       "Name: 418, dtype: object"
      ]
     },
     "execution_count": 19,
     "metadata": {},
     "output_type": "execute_result"
    }
   ],
   "source": [
    "movies50_ratings[movies50_ratings['genres'].apply(lambda x: 'Sci-Fi' in x.split('|'))].sort_values(by='rating_count',ascending=False).iloc[2]"
   ]
  },
  {
   "cell_type": "code",
   "execution_count": null,
   "id": "55233a42",
   "metadata": {},
   "outputs": [],
   "source": []
  },
  {
   "cell_type": "code",
   "execution_count": 20,
   "id": "674ecf75",
   "metadata": {},
   "outputs": [],
   "source": [
    "import requests\n",
    "import pandas as pd\n",
    "import numpy as np\n",
    "from bs4 import BeautifulSoup"
   ]
  },
  {
   "cell_type": "code",
   "execution_count": 16,
   "id": "d4685cb3",
   "metadata": {},
   "outputs": [],
   "source": [
    "links_df = pd.read_csv(r\"C:\\Users\\Utteja\\Desktop\\D_S INTERNSHIP\\links.csv\")"
   ]
  },
  {
   "cell_type": "code",
   "execution_count": 22,
   "id": "beb934b0",
   "metadata": {},
   "outputs": [],
   "source": [
    "# Assuming 'filtered_movies' DataFrame contains movies with more than 50 user ratings\n",
    "# Assuming 'links_df' DataFrame contains movieId, imdbId, tmdbId\n",
    "\n",
    "movies_with_imdb_ids = pd.merge(movies50_ratings, links_df, on='movieId', how='inner')\n",
    "\n",
    "all_reviews = []\n",
    "\n",
    "# Function to scrape IMDB reviews for a movie given its IMDB ID\n",
    "def scrapper(imdb_id):\n",
    "    id_str = str(int(imdb_id))\n",
    "    n_zeroes = 7 - len(id_str)\n",
    "    new_id = \"0\" * n_zeroes + id_str\n",
    "    URL = f\"https://www.imdb.com/title/tt{new_id}/reviews\"\n",
    "    request_header = {\n",
    "        'Content-Type': 'text/html; charset=UTF-8',\n",
    "        'User-Agent': 'Mozilla/5.0 (Windows NT 10.0; Win64; x64; rv:109.0) Gecko/20100101 Firefox/119.0',\n",
    "        'Accept-Encoding': 'gzip, deflate, br'\n",
    "    }\n",
    "    response = requests.get(URL, headers=request_header)\n",
    "    soup = BeautifulSoup(response.text, 'html.parser')\n",
    "    \n",
    "    # Find all review containers\n",
    "    review_containers = soup.find_all('div', class_='text show-more__control')  # Update this class to the actual review container class\n",
    "    \n",
    "    reviews = [container.text.strip() for container in review_containers]\n",
    "    return reviews\n",
    "\n",
    "\n",
    "\n",
    "for index, row in movies_with_imdb_ids.iterrows():\n",
    "    imdb_id = row['imdbId']\n",
    "    movie_reviews = scrapper(imdb_id)\n",
    "    all_reviews.extend([(imdb_id, review) for review in movie_reviews])\n",
    "\n",
    "# Create a DataFrame from the collected reviews\n",
    "reviews_df = pd.DataFrame(all_reviews, columns=['imdbId', 'Review_Text'])\n",
    "\n",
    "\n",
    "# Create a DataFrame from the collected reviews\n",
    "# reviews_df = pd.DataFrame({'IMDB_Reviews': all_reviews})"
   ]
  },
  {
   "cell_type": "code",
   "execution_count": 23,
   "id": "69e3c303",
   "metadata": {},
   "outputs": [
    {
     "data": {
      "text/html": [
       "<div>\n",
       "<style scoped>\n",
       "    .dataframe tbody tr th:only-of-type {\n",
       "        vertical-align: middle;\n",
       "    }\n",
       "\n",
       "    .dataframe tbody tr th {\n",
       "        vertical-align: top;\n",
       "    }\n",
       "\n",
       "    .dataframe thead th {\n",
       "        text-align: right;\n",
       "    }\n",
       "</style>\n",
       "<table border=\"1\" class=\"dataframe\">\n",
       "  <thead>\n",
       "    <tr style=\"text-align: right;\">\n",
       "      <th></th>\n",
       "      <th>imdbId</th>\n",
       "      <th>Review_Text</th>\n",
       "    </tr>\n",
       "  </thead>\n",
       "  <tbody>\n",
       "    <tr>\n",
       "      <th>0</th>\n",
       "      <td>114709</td>\n",
       "      <td>Andy's toys live a reasonable life of fun and ...</td>\n",
       "    </tr>\n",
       "    <tr>\n",
       "      <th>1</th>\n",
       "      <td>114709</td>\n",
       "      <td>This is a very clever animated story that was ...</td>\n",
       "    </tr>\n",
       "    <tr>\n",
       "      <th>2</th>\n",
       "      <td>114709</td>\n",
       "      <td>I am a big fan of the animated movies coming f...</td>\n",
       "    </tr>\n",
       "    <tr>\n",
       "      <th>3</th>\n",
       "      <td>114709</td>\n",
       "      <td>Toy Story – 5/5 starsChildren play with toys. ...</td>\n",
       "    </tr>\n",
       "    <tr>\n",
       "      <th>4</th>\n",
       "      <td>114709</td>\n",
       "      <td>Toy Story is a sheer delight to view on the sc...</td>\n",
       "    </tr>\n",
       "  </tbody>\n",
       "</table>\n",
       "</div>"
      ],
      "text/plain": [
       "   imdbId                                        Review_Text\n",
       "0  114709  Andy's toys live a reasonable life of fun and ...\n",
       "1  114709  This is a very clever animated story that was ...\n",
       "2  114709  I am a big fan of the animated movies coming f...\n",
       "3  114709  Toy Story – 5/5 starsChildren play with toys. ...\n",
       "4  114709  Toy Story is a sheer delight to view on the sc..."
      ]
     },
     "execution_count": 23,
     "metadata": {},
     "output_type": "execute_result"
    }
   ],
   "source": [
    "reviews_df.head()"
   ]
  },
  {
   "cell_type": "code",
   "execution_count": 24,
   "id": "eb7e29c9",
   "metadata": {},
   "outputs": [],
   "source": [
    "reviews_df.to_csv(\"scrapped_data.csv\", index = False)"
   ]
  },
  {
   "cell_type": "code",
   "execution_count": 25,
   "id": "5ef7c8c1",
   "metadata": {},
   "outputs": [],
   "source": [
    "df = pd.read_csv(r\"C:\\Users\\Utteja\\Desktop\\D_S INTERNSHIP\\scrapped_data.csv\")"
   ]
  },
  {
   "cell_type": "code",
   "execution_count": 26,
   "id": "a92278e5",
   "metadata": {},
   "outputs": [
    {
     "data": {
      "text/html": [
       "<div>\n",
       "<style scoped>\n",
       "    .dataframe tbody tr th:only-of-type {\n",
       "        vertical-align: middle;\n",
       "    }\n",
       "\n",
       "    .dataframe tbody tr th {\n",
       "        vertical-align: top;\n",
       "    }\n",
       "\n",
       "    .dataframe thead th {\n",
       "        text-align: right;\n",
       "    }\n",
       "</style>\n",
       "<table border=\"1\" class=\"dataframe\">\n",
       "  <thead>\n",
       "    <tr style=\"text-align: right;\">\n",
       "      <th></th>\n",
       "      <th>imdbId</th>\n",
       "      <th>Review_Text</th>\n",
       "    </tr>\n",
       "  </thead>\n",
       "  <tbody>\n",
       "    <tr>\n",
       "      <th>0</th>\n",
       "      <td>114709</td>\n",
       "      <td>Andy's toys live a reasonable life of fun and ...</td>\n",
       "    </tr>\n",
       "    <tr>\n",
       "      <th>1</th>\n",
       "      <td>114709</td>\n",
       "      <td>This is a very clever animated story that was ...</td>\n",
       "    </tr>\n",
       "    <tr>\n",
       "      <th>2</th>\n",
       "      <td>114709</td>\n",
       "      <td>I am a big fan of the animated movies coming f...</td>\n",
       "    </tr>\n",
       "    <tr>\n",
       "      <th>3</th>\n",
       "      <td>114709</td>\n",
       "      <td>Toy Story – 5/5 starsChildren play with toys. ...</td>\n",
       "    </tr>\n",
       "    <tr>\n",
       "      <th>4</th>\n",
       "      <td>114709</td>\n",
       "      <td>Toy Story is a sheer delight to view on the sc...</td>\n",
       "    </tr>\n",
       "  </tbody>\n",
       "</table>\n",
       "</div>"
      ],
      "text/plain": [
       "   imdbId                                        Review_Text\n",
       "0  114709  Andy's toys live a reasonable life of fun and ...\n",
       "1  114709  This is a very clever animated story that was ...\n",
       "2  114709  I am a big fan of the animated movies coming f...\n",
       "3  114709  Toy Story – 5/5 starsChildren play with toys. ...\n",
       "4  114709  Toy Story is a sheer delight to view on the sc..."
      ]
     },
     "execution_count": 26,
     "metadata": {},
     "output_type": "execute_result"
    }
   ],
   "source": [
    "df.head()"
   ]
  },
  {
   "cell_type": "markdown",
   "id": "fe797741",
   "metadata": {},
   "source": [
    "# 12. Mention the movieId of the movie which has the highest IMDB rating.\n"
   ]
  },
  {
   "cell_type": "code",
   "execution_count": 28,
   "id": "2ce160e2",
   "metadata": {},
   "outputs": [],
   "source": [
    "merged_reviews_links = pd.merge(reviews_df, links_df, on='imdbId', how='inner')\n",
    "\n",
    "merged_reviews_links_ratings = pd.merge(merged_reviews_links,movies50_ratings, on = 'movieId', how = 'inner')"
   ]
  },
  {
   "cell_type": "code",
   "execution_count": 29,
   "id": "1728918e",
   "metadata": {},
   "outputs": [
    {
     "data": {
      "text/plain": [
       "Index(['imdbId', 'Review_Text', 'movieId', 'tmdbId', 'title', 'genres',\n",
       "       'rating_count', 'rating_mean'],\n",
       "      dtype='object')"
      ]
     },
     "execution_count": 29,
     "metadata": {},
     "output_type": "execute_result"
    }
   ],
   "source": [
    "merged_reviews_links_ratings.columns"
   ]
  },
  {
   "cell_type": "code",
   "execution_count": 31,
   "id": "d86408b0",
   "metadata": {},
   "outputs": [
    {
     "name": "stdout",
     "output_type": "stream",
     "text": [
      "356\n"
     ]
    }
   ],
   "source": [
    "# Find the movie with the highest IMDB rating\n",
    "highest_rated_movie = merged_reviews_links_ratings.loc[merged_reviews_links_ratings['rating_count'].idxmax()]\n",
    "\n",
    "# Extract the movieId with the highest IMDB rating\n",
    "highest_rated_movie_id = highest_rated_movie['movieId']\n",
    "\n",
    "print(highest_rated_movie_id)"
   ]
  },
  {
   "cell_type": "code",
   "execution_count": null,
   "id": "b491b460",
   "metadata": {},
   "outputs": [],
   "source": []
  },
  {
   "cell_type": "code",
   "execution_count": null,
   "id": "1f7f3c4b",
   "metadata": {},
   "outputs": [],
   "source": []
  },
  {
   "cell_type": "markdown",
   "id": "f79f4fe8",
   "metadata": {},
   "source": [
    "# 13. Mention the movieId of the \"Sci-Fi\" movie which has the highest IMDB rating."
   ]
  },
  {
   "cell_type": "code",
   "execution_count": 32,
   "id": "c4fd6d06",
   "metadata": {},
   "outputs": [
    {
     "data": {
      "text/plain": [
       "imdbId                                                     133093\n",
       "Review_Text     Truly a masterpiece in every way! If it wasn't...\n",
       "movieId                                                      2571\n",
       "tmdbId                                                      603.0\n",
       "title                                          Matrix, The (1999)\n",
       "genres                                     Action|Sci-Fi|Thriller\n",
       "rating_count                                                  278\n",
       "rating_mean                                              4.192446\n",
       "Name: 6203, dtype: object"
      ]
     },
     "execution_count": 32,
     "metadata": {},
     "output_type": "execute_result"
    }
   ],
   "source": [
    "merged_reviews_links_ratings[merged_reviews_links_ratings['genres'].apply(lambda x: 'Sci-Fi' in x.split('|'))].sort_values(by='rating_count',ascending=False).iloc[0]"
   ]
  },
  {
   "cell_type": "code",
   "execution_count": null,
   "id": "03bfd21b",
   "metadata": {},
   "outputs": [],
   "source": []
  },
  {
   "cell_type": "code",
   "execution_count": null,
   "id": "bbf9c7f3",
   "metadata": {},
   "outputs": [],
   "source": []
  },
  {
   "cell_type": "code",
   "execution_count": null,
   "id": "7b824d85",
   "metadata": {},
   "outputs": [],
   "source": []
  },
  {
   "cell_type": "code",
   "execution_count": null,
   "id": "f7f07205",
   "metadata": {},
   "outputs": [],
   "source": []
  },
  {
   "cell_type": "code",
   "execution_count": null,
   "id": "60a0860f",
   "metadata": {},
   "outputs": [],
   "source": []
  },
  {
   "cell_type": "code",
   "execution_count": null,
   "id": "3ddcc858",
   "metadata": {},
   "outputs": [],
   "source": []
  },
  {
   "cell_type": "code",
   "execution_count": null,
   "id": "55148787",
   "metadata": {},
   "outputs": [],
   "source": []
  },
  {
   "cell_type": "code",
   "execution_count": null,
   "id": "3e27b709",
   "metadata": {},
   "outputs": [],
   "source": []
  }
 ],
 "metadata": {
  "kernelspec": {
   "display_name": "Python 3 (ipykernel)",
   "language": "python",
   "name": "python3"
  },
  "language_info": {
   "codemirror_mode": {
    "name": "ipython",
    "version": 3
   },
   "file_extension": ".py",
   "mimetype": "text/x-python",
   "name": "python",
   "nbconvert_exporter": "python",
   "pygments_lexer": "ipython3",
   "version": "3.9.13"
  }
 },
 "nbformat": 4,
 "nbformat_minor": 5
}
